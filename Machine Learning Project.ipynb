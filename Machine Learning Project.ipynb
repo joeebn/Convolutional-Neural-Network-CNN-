{
  "nbformat": 4,
  "nbformat_minor": 0,
  "metadata": {
    "colab": {
      "name": "Assignment 2 final.ipynb",
      "provenance": [],
      "collapsed_sections": []
    },
    "kernelspec": {
      "name": "python3",
      "display_name": "Python 3"
    },
    "language_info": {
      "name": "python"
    }
  },
  "cells": [
    {
      "cell_type": "code",
      "execution_count": 3,
      "metadata": {
        "id": "qh42XIJowuPb"
      },
      "outputs": [],
      "source": [
        "from re import I\n",
        "import numpy as np\n",
        "import tensorflow as tf\n",
        "from tensorflow import keras\n",
        "from tensorflow.keras import layers\n",
        "\n",
        "from tensorflow.keras import datasets, layers, models\n",
        "import matplotlib.pyplot as plt\n",
        "from tensorflow.keras.datasets import cifar10 \n",
        "\n",
        "import sklearn\n",
        "from sklearn.preprocessing import OneHotEncoder\n",
        "from sklearn.metrics import confusion_matrix\n",
        "\n",
        "\n",
        "from sklearn import metrics"
      ]
    },
    {
      "cell_type": "code",
      "source": [
        "num_classes = 10\n",
        "\n",
        "class_names=['airplane','automobile','bird','cat','deer','dog','frog','horse','ship','truck']\n",
        "(x_train,y_train),(x_test,y_test)=cifar10.load_data()\n",
        "\n",
        "x_train=x_train/255.0\n",
        "x_train.shape\n",
        "\n",
        "\n",
        "x_test=x_test/255.0\n",
        "x_test.shape"
      ],
      "metadata": {
        "colab": {
          "base_uri": "https://localhost:8080/"
        },
        "id": "9twp8lCEwvho",
        "outputId": "a246744f-57c9-4d20-b616-11d361ef0f4e"
      },
      "execution_count": 4,
      "outputs": [
        {
          "output_type": "stream",
          "name": "stdout",
          "text": [
            "Downloading data from https://www.cs.toronto.edu/~kriz/cifar-10-python.tar.gz\n",
            "170500096/170498071 [==============================] - 2s 0us/step\n",
            "170508288/170498071 [==============================] - 2s 0us/step\n"
          ]
        },
        {
          "output_type": "execute_result",
          "data": {
            "text/plain": [
              "(10000, 32, 32, 3)"
            ]
          },
          "metadata": {},
          "execution_count": 4
        }
      ]
    },
    {
      "cell_type": "code",
      "source": [
        "y_train = keras.utils.to_categorical(y_train, num_classes)\n",
        "y_test = keras.utils.to_categorical(y_test, num_classes)"
      ],
      "metadata": {
        "id": "bdJERUcXwxIe"
      },
      "execution_count": 5,
      "outputs": []
    },
    {
      "cell_type": "code",
      "source": [
        "model=tf.keras.models.Sequential(\n",
        "    [\n",
        "     layers.Conv2D(filters=32,kernel_size=3, padding=\"same\", activation=\"relu\", input_shape=[32,32,3]),\n",
        "     layers.Flatten(),\n",
        "     layers.Dropout(0.2),\n",
        "     layers.Dense(units=10,activation='softmax')\n",
        "\n",
        "    ] \n",
        ")"
      ],
      "metadata": {
        "id": "AgfKPbQBw2LY"
      },
      "execution_count": 4,
      "outputs": []
    },
    {
      "cell_type": "code",
      "source": [
        "model.summary()"
      ],
      "metadata": {
        "colab": {
          "base_uri": "https://localhost:8080/"
        },
        "id": "7uRkZ0SnMNaC",
        "outputId": "60ff9525-7356-4464-cc5d-6b6d105d4821"
      },
      "execution_count": 8,
      "outputs": [
        {
          "output_type": "stream",
          "name": "stdout",
          "text": [
            "Model: \"sequential\"\n",
            "_________________________________________________________________\n",
            " Layer (type)                Output Shape              Param #   \n",
            "=================================================================\n",
            " conv2d (Conv2D)             (None, 32, 32, 32)        896       \n",
            "                                                                 \n",
            " flatten (Flatten)           (None, 32768)             0         \n",
            "                                                                 \n",
            " dropout (Dropout)           (None, 32768)             0         \n",
            "                                                                 \n",
            " dense (Dense)               (None, 10)                327690    \n",
            "                                                                 \n",
            "=================================================================\n",
            "Total params: 328,586\n",
            "Trainable params: 328,586\n",
            "Non-trainable params: 0\n",
            "_________________________________________________________________\n"
          ]
        }
      ]
    },
    {
      "cell_type": "code",
      "source": [
        "model.compile(loss=\"categorical_crossentropy\", optimizer=\"Adam\", metrics=[\"accuracy\"])"
      ],
      "metadata": {
        "id": "0D1OVFKkw4VI"
      },
      "execution_count": 10,
      "outputs": []
    },
    {
      "cell_type": "code",
      "source": [
        "history = model.fit(x_train,y_train, batch_size = 128, epochs=15, validation_split=0.1)\n",
        "\n",
        "test_loss, test_accuracy = model.evaluate(x_test, y_test)\n",
        "\n",
        "\n",
        "print(\"Test accuracy: {}\".format(test_accuracy))"
      ],
      "metadata": {
        "colab": {
          "base_uri": "https://localhost:8080/"
        },
        "id": "NAQppSrWw76z",
        "outputId": "c0490ee0-4d34-474f-d91c-16702a78e020"
      },
      "execution_count": 7,
      "outputs": [
        {
          "output_type": "stream",
          "name": "stdout",
          "text": [
            "Epoch 1/15\n",
            "352/352 [==============================] - 51s 143ms/step - loss: 1.5297 - accuracy: 0.4629 - val_loss: 1.2953 - val_accuracy: 0.5518\n",
            "Epoch 2/15\n",
            "352/352 [==============================] - 47s 132ms/step - loss: 1.2395 - accuracy: 0.5669 - val_loss: 1.2392 - val_accuracy: 0.5722\n",
            "Epoch 3/15\n",
            "352/352 [==============================] - 45s 128ms/step - loss: 1.1521 - accuracy: 0.5991 - val_loss: 1.1856 - val_accuracy: 0.5904\n",
            "Epoch 4/15\n",
            "352/352 [==============================] - 46s 130ms/step - loss: 1.0861 - accuracy: 0.6222 - val_loss: 1.1989 - val_accuracy: 0.5900\n",
            "Epoch 5/15\n",
            "352/352 [==============================] - 45s 129ms/step - loss: 1.0255 - accuracy: 0.6457 - val_loss: 1.1346 - val_accuracy: 0.6094\n",
            "Epoch 6/15\n",
            "352/352 [==============================] - 46s 131ms/step - loss: 0.9888 - accuracy: 0.6603 - val_loss: 1.1747 - val_accuracy: 0.5996\n",
            "Epoch 7/15\n",
            "352/352 [==============================] - 44s 126ms/step - loss: 0.9406 - accuracy: 0.6768 - val_loss: 1.1467 - val_accuracy: 0.5976\n",
            "Epoch 8/15\n",
            "352/352 [==============================] - 45s 126ms/step - loss: 0.9052 - accuracy: 0.6882 - val_loss: 1.1336 - val_accuracy: 0.6088\n",
            "Epoch 9/15\n",
            "352/352 [==============================] - 45s 128ms/step - loss: 0.8758 - accuracy: 0.6968 - val_loss: 1.1705 - val_accuracy: 0.5910\n",
            "Epoch 10/15\n",
            "352/352 [==============================] - 45s 127ms/step - loss: 0.8558 - accuracy: 0.7047 - val_loss: 1.1484 - val_accuracy: 0.6144\n",
            "Epoch 11/15\n",
            "352/352 [==============================] - 44s 126ms/step - loss: 0.8182 - accuracy: 0.7206 - val_loss: 1.1296 - val_accuracy: 0.6056\n",
            "Epoch 12/15\n",
            "352/352 [==============================] - 45s 128ms/step - loss: 0.7966 - accuracy: 0.7268 - val_loss: 1.1288 - val_accuracy: 0.6168\n",
            "Epoch 13/15\n",
            "352/352 [==============================] - 45s 129ms/step - loss: 0.7728 - accuracy: 0.7345 - val_loss: 1.1323 - val_accuracy: 0.6150\n",
            "Epoch 14/15\n",
            "352/352 [==============================] - 45s 128ms/step - loss: 0.7507 - accuracy: 0.7415 - val_loss: 1.1581 - val_accuracy: 0.6130\n",
            "Epoch 15/15\n",
            "352/352 [==============================] - 45s 128ms/step - loss: 0.7266 - accuracy: 0.7500 - val_loss: 1.1325 - val_accuracy: 0.6300\n",
            "313/313 [==============================] - 3s 8ms/step - loss: 1.1576 - accuracy: 0.6065\n",
            "Test accuracy: 0.6065000295639038\n"
          ]
        }
      ]
    },
    {
      "cell_type": "code",
      "source": [
        "score = model.evaluate(x_test, y_test, verbose=0)\n",
        "print(\"Test loss:\", score[0])\n",
        "print(\"Test accuracy:\", score[1])"
      ],
      "metadata": {
        "colab": {
          "base_uri": "https://localhost:8080/"
        },
        "id": "rS7AS8Uyw90r",
        "outputId": "515332b6-45ce-48e8-db5b-3ac8193b26e8"
      },
      "execution_count": 9,
      "outputs": [
        {
          "output_type": "stream",
          "name": "stdout",
          "text": [
            "Test loss: 1.1576136350631714\n",
            "Test accuracy: 0.6065000295639038\n"
          ]
        }
      ]
    },
    {
      "cell_type": "code",
      "source": [
        "\n",
        "import matplotlib.pyplot as plt\n",
        "\n",
        "loss = history.history['loss']\n",
        "val_loss = history.history['val_loss']\n",
        "\n",
        "plt.plot(loss, label=\"Training Loss\")\n",
        "plt.plot(val_loss, label=\"Validation Loss\")\n",
        "    \n",
        "# X and Y axes labels.\n",
        "plt.ylabel('Loss')\n",
        "plt.xlabel('epochs')\n",
        "\n",
        "\n",
        "# Display a legend.\n",
        "plt.legend()\n",
        "\n",
        "\n",
        "\n"
      ],
      "metadata": {
        "colab": {
          "base_uri": "https://localhost:8080/",
          "height": 297
        },
        "id": "d7c1zSVY1M3b",
        "outputId": "55715f41-732b-4d01-a685-99f4ccee41d1"
      },
      "execution_count": 13,
      "outputs": [
        {
          "output_type": "execute_result",
          "data": {
            "text/plain": [
              "<matplotlib.legend.Legend at 0x7f339e89ef90>"
            ]
          },
          "metadata": {},
          "execution_count": 13
        },
        {
          "output_type": "display_data",
          "data": {
            "text/plain": [
              "<Figure size 432x288 with 1 Axes>"
            ],
            "image/png": "[encoded data removed]"
          },
          "metadata": {
            "needs_background": "light"
          }
        }
      ]
    },
    {
      "cell_type": "code",
      "source": [
        "acc = history.history['accuracy']\n",
        "val_acc = history.history['val_accuracy']\n",
        "\n",
        "plt.plot(acc, label=\"Training Accuracy\")\n",
        "plt.plot(val_acc, label=\"Validation Accuracy\")\n",
        "    \n",
        "\n",
        "plt.ylabel('Accuracy')\n",
        "plt.xlabel('epochs')\n",
        "\n",
        "plt.legend()"
      ],
      "metadata": {
        "colab": {
          "base_uri": "https://localhost:8080/",
          "height": 297
        },
        "id": "hmNDiKgU2RK-",
        "outputId": "cfd7d3f6-3caf-45c1-a2a1-835408c906d4"
      },
      "execution_count": 14,
      "outputs": [
        {
          "output_type": "execute_result",
          "data": {
            "text/plain": [
              "<matplotlib.legend.Legend at 0x7f339a8060d0>"
            ]
          },
          "metadata": {},
          "execution_count": 14
        },
        {
          "output_type": "display_data",
          "data": {
            "text/plain": [
              "<Figure size 432x288 with 1 Axes>"
            ],
            "image/png": "[encoded data removed]"
          },
          "metadata": {
            "needs_background": "light"
          }
        }
      ]
    },
    {
      "cell_type": "code",
      "source": [
        "#Model 2\n",
        "\n",
        "model2=tf.keras.models.Sequential(\n",
        "    [\n",
        "     layers.Conv2D(filters=32,kernel_size=3, padding=\"same\", activation=\"relu\", input_shape=[32,32,3]),\n",
        "     layers.MaxPool2D(pool_size=2,strides=2, padding=\"valid\"),\n",
        "     layers.Flatten(),\n",
        "     layers.Dropout(0.2),\n",
        "     layers.Dense(units=10,activation='softmax')\n",
        "\n",
        "    ] \n",
        ")"
      ],
      "metadata": {
        "id": "fazmRoHhQbcn"
      },
      "execution_count": 15,
      "outputs": []
    },
    {
      "cell_type": "code",
      "source": [
        "model2.summary()"
      ],
      "metadata": {
        "colab": {
          "base_uri": "https://localhost:8080/"
        },
        "id": "dkvM1F2XQo0J",
        "outputId": "a978e7fe-eb88-4fb3-f881-50d4f4768856"
      },
      "execution_count": 16,
      "outputs": [
        {
          "output_type": "stream",
          "name": "stdout",
          "text": [
            "Model: \"sequential_1\"\n",
            "_________________________________________________________________\n",
            " Layer (type)                Output Shape              Param #   \n",
            "=================================================================\n",
            " conv2d_1 (Conv2D)           (None, 32, 32, 32)        896       \n",
            "                                                                 \n",
            " max_pooling2d (MaxPooling2D  (None, 16, 16, 32)       0         \n",
            " )                                                               \n",
            "                                                                 \n",
            " flatten_1 (Flatten)         (None, 8192)              0         \n",
            "                                                                 \n",
            " dropout_1 (Dropout)         (None, 8192)              0         \n",
            "                                                                 \n",
            " dense_1 (Dense)             (None, 10)                81930     \n",
            "                                                                 \n",
            "=================================================================\n",
            "Total params: 82,826\n",
            "Trainable params: 82,826\n",
            "Non-trainable params: 0\n",
            "_________________________________________________________________\n"
          ]
        }
      ]
    },
    {
      "cell_type": "code",
      "source": [
        "model2.compile(loss=\"categorical_crossentropy\", optimizer=\"Adam\", metrics=[\"accuracy\"])"
      ],
      "metadata": {
        "id": "-Y-KZAyFRUBt"
      },
      "execution_count": 17,
      "outputs": []
    },
    {
      "cell_type": "code",
      "source": [
        "history2 = model2.fit(x_train,y_train, batch_size = 128, epochs=15, validation_split=0.1)\n",
        "\n",
        "test_loss, test_accuracy = model2.evaluate(x_test, y_test)\n",
        "\n",
        "\n",
        "print(\"Test accuracy: {}\".format(test_accuracy))"
      ],
      "metadata": {
        "colab": {
          "base_uri": "https://localhost:8080/"
        },
        "id": "CebgmsUbQ_SK",
        "outputId": "79b969f4-2b2c-4ddb-bc4a-5948738d95d9"
      },
      "execution_count": null,
      "outputs": [
        {
          "output_type": "stream",
          "name": "stdout",
          "text": [
            "Epoch 1/15\n",
            "352/352 [==============================] - 40s 114ms/step - loss: 1.6036 - accuracy: 0.4407 - val_loss: 1.3690 - val_accuracy: 0.5306\n",
            "Epoch 2/15\n",
            "352/352 [==============================] - 41s 117ms/step - loss: 1.3056 - accuracy: 0.5457 - val_loss: 1.2643 - val_accuracy: 0.5584\n",
            "Epoch 3/15\n",
            "352/352 [==============================] - 40s 114ms/step - loss: 1.2136 - accuracy: 0.5796 - val_loss: 1.2038 - val_accuracy: 0.5776\n",
            "Epoch 4/15\n",
            "352/352 [==============================] - 41s 118ms/step - loss: 1.1544 - accuracy: 0.6028 - val_loss: 1.1705 - val_accuracy: 0.5980\n",
            "Epoch 5/15\n",
            "352/352 [==============================] - 40s 114ms/step - loss: 1.1098 - accuracy: 0.6174 - val_loss: 1.1343 - val_accuracy: 0.6108\n",
            "Epoch 6/15\n",
            "352/352 [==============================] - 40s 113ms/step - loss: 1.0773 - accuracy: 0.6274 - val_loss: 1.1147 - val_accuracy: 0.6170\n",
            "Epoch 7/15\n",
            "352/352 [==============================] - 40s 114ms/step - loss: 1.0490 - accuracy: 0.6370 - val_loss: 1.1106 - val_accuracy: 0.6250\n",
            "Epoch 8/15\n",
            "352/352 [==============================] - 40s 113ms/step - loss: 1.0295 - accuracy: 0.6449 - val_loss: 1.0861 - val_accuracy: 0.6286\n",
            "Epoch 9/15\n",
            "352/352 [==============================] - 40s 112ms/step - loss: 1.0052 - accuracy: 0.6524 - val_loss: 1.0680 - val_accuracy: 0.6344\n",
            "Epoch 10/15\n",
            "352/352 [==============================] - 40s 112ms/step - loss: 0.9915 - accuracy: 0.6576 - val_loss: 1.0658 - val_accuracy: 0.6354\n",
            "Epoch 11/15\n",
            "352/352 [==============================] - 40s 113ms/step - loss: 0.9742 - accuracy: 0.6624 - val_loss: 1.0374 - val_accuracy: 0.6494\n",
            "Epoch 12/15\n",
            "352/352 [==============================] - 40s 112ms/step - loss: 0.9520 - accuracy: 0.6713 - val_loss: 1.0398 - val_accuracy: 0.6432\n",
            "Epoch 13/15\n",
            "352/352 [==============================] - 40s 112ms/step - loss: 0.9422 - accuracy: 0.6730 - val_loss: 1.0205 - val_accuracy: 0.6546\n",
            "Epoch 14/15\n",
            "352/352 [==============================] - 40s 112ms/step - loss: 0.9237 - accuracy: 0.6815 - val_loss: 1.0328 - val_accuracy: 0.6460\n",
            "Epoch 15/15\n",
            "352/352 [==============================] - 39s 112ms/step - loss: 0.9197 - accuracy: 0.6808 - val_loss: 1.0088 - val_accuracy: 0.6516\n"
          ]
        }
      ]
    },
    {
      "cell_type": "code",
      "source": [
        "score2 = model2.evaluate(x_test, y_test, verbose=0)\n",
        "print(\"Test loss:\", score2[0])\n",
        "print(\"Test accuracy:\", score2[1])"
      ],
      "metadata": {
        "colab": {
          "base_uri": "https://localhost:8080/"
        },
        "id": "uraeW-D8QuPf",
        "outputId": "7a4f3062-00ec-4541-ce36-72a79cf89abb"
      },
      "execution_count": 19,
      "outputs": [
        {
          "output_type": "stream",
          "name": "stdout",
          "text": [
            "Test loss: 1.0313878059387207\n",
            "Test accuracy: 0.6389999985694885\n"
          ]
        }
      ]
    },
    {
      "cell_type": "code",
      "source": [
        "loss = history2.history['loss']\n",
        "val_loss = history2.history['val_loss']\n",
        "\n",
        "plt.plot(loss, label=\"Training Loss\")\n",
        "plt.plot(val_loss, label=\"Validation Loss\")\n",
        "    \n",
        "# X and Y axes labels.\n",
        "plt.ylabel('Loss')\n",
        "plt.xlabel('epochs')"
      ],
      "metadata": {
        "colab": {
          "base_uri": "https://localhost:8080/",
          "height": 297
        },
        "id": "ipBmC3NWQ1mE",
        "outputId": "94a30bc3-06a0-44d2-89b9-aa51a7e20bf6"
      },
      "execution_count": 20,
      "outputs": [
        {
          "output_type": "execute_result",
          "data": {
            "text/plain": [
              "Text(0.5, 0, 'epochs')"
            ]
          },
          "metadata": {},
          "execution_count": 20
        },
        {
          "output_type": "display_data",
          "data": {
            "text/plain": [
              "<Figure size 432x288 with 1 Axes>"
            ],
            "image/png": "[encoded data removed]"
          },
          "metadata": {
            "needs_background": "light"
          }
        }
      ]
    },
    {
      "cell_type": "code",
      "source": [
        "acc = history2.history['accuracy']\n",
        "val_acc = history2.history['val_accuracy']\n",
        "\n",
        "plt.plot(acc, label=\"Training Accuracy\")\n",
        "plt.plot(val_acc, label=\"Validation Accuracy\")\n",
        "    \n",
        "\n",
        "plt.ylabel('Accuracy')\n",
        "plt.xlabel('epochs')\n",
        "\n",
        "plt.legend()"
      ],
      "metadata": {
        "colab": {
          "base_uri": "https://localhost:8080/",
          "height": 297
        },
        "id": "kIYAGJmHXzIu",
        "outputId": "88228c13-9735-4065-fffe-4d9d6de24eaf"
      },
      "execution_count": 22,
      "outputs": [
        {
          "output_type": "execute_result",
          "data": {
            "text/plain": [
              "<matplotlib.legend.Legend at 0x7f339b819b50>"
            ]
          },
          "metadata": {},
          "execution_count": 22
        },
        {
          "output_type": "display_data",
          "data": {
            "text/plain": [
              "<Figure size 432x288 with 1 Axes>"
            ],
            "image/png": "[encoded data removed]"
          },
          "metadata": {
            "needs_background": "light"
          }
        }
      ]
    },
    {
      "cell_type": "code",
      "source": [
        "#Model 3\n",
        "\n",
        "model3=tf.keras.models.Sequential(\n",
        "    [\n",
        "     layers.Conv2D(filters=32,kernel_size=3, padding=\"same\", activation=\"relu\", input_shape=[32,32,3]),\n",
        "\n",
        "     layers.MaxPool2D(pool_size=2,strides=2),\n",
        "     \n",
        "     layers.Conv2D(filters=64, kernel_size=3, padding=\"same\", activation=\"relu\"),\n",
        "     layers.MaxPooling2D(pool_size=(2, 2)),\n",
        "     layers.Flatten(),\n",
        "     layers.Dropout(0.5),\n",
        "     layers.Dense(num_classes,activation='softmax')\n",
        "\n",
        "    ] \n",
        ")\n"
      ],
      "metadata": {
        "id": "IwchXMHb2lD8"
      },
      "execution_count": 6,
      "outputs": []
    },
    {
      "cell_type": "code",
      "source": [
        "model3.compile(loss=\"categorical_crossentropy\", optimizer=\"Adam\", metrics=[\"accuracy\"])\n",
        "\n",
        "model3.summary()"
      ],
      "metadata": {
        "id": "2cP2UvPV4Glq",
        "colab": {
          "base_uri": "https://localhost:8080/"
        },
        "outputId": "3fc2776e-8f33-450f-e66d-1d852dfcf335"
      },
      "execution_count": 7,
      "outputs": [
        {
          "output_type": "stream",
          "name": "stdout",
          "text": [
            "Model: \"sequential\"\n",
            "_________________________________________________________________\n",
            " Layer (type)                Output Shape              Param #   \n",
            "=================================================================\n",
            " conv2d (Conv2D)             (None, 32, 32, 32)        896       \n",
            "                                                                 \n",
            " max_pooling2d (MaxPooling2D  (None, 16, 16, 32)       0         \n",
            " )                                                               \n",
            "                                                                 \n",
            " conv2d_1 (Conv2D)           (None, 16, 16, 64)        18496     \n",
            "                                                                 \n",
            " max_pooling2d_1 (MaxPooling  (None, 8, 8, 64)         0         \n",
            " 2D)                                                             \n",
            "                                                                 \n",
            " flatten (Flatten)           (None, 4096)              0         \n",
            "                                                                 \n",
            " dropout (Dropout)           (None, 4096)              0         \n",
            "                                                                 \n",
            " dense (Dense)               (None, 10)                40970     \n",
            "                                                                 \n",
            "=================================================================\n",
            "Total params: 60,362\n",
            "Trainable params: 60,362\n",
            "Non-trainable params: 0\n",
            "_________________________________________________________________\n"
          ]
        }
      ]
    },
    {
      "cell_type": "code",
      "source": [
        "history3 = model3.fit(x_train,y_train, batch_size = 128, epochs=15, validation_split=0.1)\n",
        "\n"
      ],
      "metadata": {
        "colab": {
          "base_uri": "https://localhost:8080/"
        },
        "id": "ANY3a9L33yHE",
        "outputId": "f08d4b12-6d56-4cc0-a8cf-08aea10a4758"
      },
      "execution_count": 25,
      "outputs": [
        {
          "output_type": "stream",
          "name": "stdout",
          "text": [
            "Epoch 1/15\n",
            "352/352 [==============================] - 75s 212ms/step - loss: 1.6374 - accuracy: 0.4190 - val_loss: 1.3722 - val_accuracy: 0.5204\n",
            "Epoch 2/15\n",
            "352/352 [==============================] - 82s 232ms/step - loss: 1.3193 - accuracy: 0.5332 - val_loss: 1.2103 - val_accuracy: 0.5800\n",
            "Epoch 3/15\n",
            "352/352 [==============================] - 77s 218ms/step - loss: 1.2066 - accuracy: 0.5772 - val_loss: 1.0961 - val_accuracy: 0.6296\n",
            "Epoch 4/15\n",
            "352/352 [==============================] - 78s 221ms/step - loss: 1.1341 - accuracy: 0.6045 - val_loss: 1.0650 - val_accuracy: 0.6304\n",
            "Epoch 5/15\n",
            "352/352 [==============================] - 76s 217ms/step - loss: 1.0809 - accuracy: 0.6228 - val_loss: 1.0233 - val_accuracy: 0.6580\n",
            "Epoch 6/15\n",
            "352/352 [==============================] - 76s 215ms/step - loss: 1.0432 - accuracy: 0.6357 - val_loss: 0.9756 - val_accuracy: 0.6718\n",
            "Epoch 7/15\n",
            "352/352 [==============================] - 76s 216ms/step - loss: 1.0098 - accuracy: 0.6490 - val_loss: 0.9397 - val_accuracy: 0.6866\n",
            "Epoch 8/15\n",
            "352/352 [==============================] - 76s 217ms/step - loss: 0.9773 - accuracy: 0.6616 - val_loss: 0.9369 - val_accuracy: 0.6834\n",
            "Epoch 9/15\n",
            "352/352 [==============================] - 76s 215ms/step - loss: 0.9603 - accuracy: 0.6668 - val_loss: 0.9240 - val_accuracy: 0.6896\n",
            "Epoch 10/15\n",
            "352/352 [==============================] - 76s 215ms/step - loss: 0.9353 - accuracy: 0.6747 - val_loss: 0.9082 - val_accuracy: 0.6908\n",
            "Epoch 11/15\n",
            "352/352 [==============================] - 76s 216ms/step - loss: 0.9130 - accuracy: 0.6845 - val_loss: 0.8772 - val_accuracy: 0.7016\n",
            "Epoch 12/15\n",
            "352/352 [==============================] - 80s 227ms/step - loss: 0.9015 - accuracy: 0.6850 - val_loss: 0.9154 - val_accuracy: 0.6924\n",
            "Epoch 13/15\n",
            "352/352 [==============================] - 76s 215ms/step - loss: 0.8878 - accuracy: 0.6912 - val_loss: 0.8602 - val_accuracy: 0.7106\n",
            "Epoch 14/15\n",
            "352/352 [==============================] - 74s 210ms/step - loss: 0.8707 - accuracy: 0.6956 - val_loss: 0.8588 - val_accuracy: 0.7090\n",
            "Epoch 15/15\n",
            "352/352 [==============================] - 74s 209ms/step - loss: 0.8603 - accuracy: 0.7022 - val_loss: 0.8452 - val_accuracy: 0.7164\n"
          ]
        }
      ]
    },
    {
      "cell_type": "code",
      "source": [
        "test_loss, test_accuracy = model3.evaluate(x_test, y_test)\n",
        "\n",
        "\n",
        "print(\"Test accuracy: {}\".format(test_accuracy))"
      ],
      "metadata": {
        "colab": {
          "base_uri": "https://localhost:8080/"
        },
        "id": "cGP94QDS85qt",
        "outputId": "ab46e215-a873-4581-a7d9-1f453e2ceeda"
      },
      "execution_count": 26,
      "outputs": [
        {
          "output_type": "stream",
          "name": "stdout",
          "text": [
            "313/313 [==============================] - 5s 17ms/step - loss: 0.8622 - accuracy: 0.7032\n",
            "Test accuracy: 0.7031999826431274\n"
          ]
        }
      ]
    },
    {
      "cell_type": "code",
      "source": [
        "loss = history3.history['loss']\n",
        "val_loss = history3.history['val_loss']\n",
        "\n",
        "plt.plot(loss, label=\"Training Loss\")\n",
        "plt.plot(val_loss, label=\"Validation Loss\")\n",
        "    \n",
        "# X and Y axes labels.\n",
        "plt.ylabel('Loss')\n",
        "plt.xlabel('epochs')\n",
        "\n",
        "\n",
        "# Display a legend.\n",
        "plt.legend()\n"
      ],
      "metadata": {
        "colab": {
          "base_uri": "https://localhost:8080/",
          "height": 297
        },
        "id": "cfLTJSo1PZ08",
        "outputId": "2726c373-6eb8-4802-a0ca-41eb1fec9272"
      },
      "execution_count": 27,
      "outputs": [
        {
          "output_type": "execute_result",
          "data": {
            "text/plain": [
              "<matplotlib.legend.Legend at 0x7f339a7f1bd0>"
            ]
          },
          "metadata": {},
          "execution_count": 27
        },
        {
          "output_type": "display_data",
          "data": {
            "text/plain": [
              "<Figure size 432x288 with 1 Axes>"
            ],
            "image/png": "[encoded data removed]"
          },
          "metadata": {
            "needs_background": "light"
          }
        }
      ]
    },
    {
      "cell_type": "code",
      "source": [
        "acc = history3.history['accuracy']\n",
        "val_acc = history3.history['val_accuracy']\n",
        "\n",
        "plt.plot(acc, label=\"Training Accuracy\")\n",
        "plt.plot(val_acc, label=\"Validation Accuracy\")\n",
        "    \n",
        "\n",
        "plt.ylabel('Accuracy')\n",
        "plt.xlabel('epochs')\n",
        "\n",
        "plt.legend()"
      ],
      "metadata": {
        "colab": {
          "base_uri": "https://localhost:8080/",
          "height": 297
        },
        "id": "1yAoVHOvPewE",
        "outputId": "669bf4fe-1599-40a0-8d63-9d52a8d31e59"
      },
      "execution_count": 28,
      "outputs": [
        {
          "output_type": "execute_result",
          "data": {
            "text/plain": [
              "<matplotlib.legend.Legend at 0x7f339a7f2290>"
            ]
          },
          "metadata": {},
          "execution_count": 28
        },
        {
          "output_type": "display_data",
          "data": {
            "text/plain": [
              "<Figure size 432x288 with 1 Axes>"
            ],
            "image/png": "[encoded data removed]"
          },
          "metadata": {
            "needs_background": "light"
          }
        }
      ]
    }
  ]
}